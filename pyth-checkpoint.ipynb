{
 "cells": [
  {
   "cell_type": "code",
   "execution_count": null,
   "id": "7a0fa4bb",
   "metadata": {},
   "outputs": [],
   "source": [
    "import subprocess\n",
    "\n",
    "# compile the C++ file\n",
    "subprocess.run(['g++', 'filename.cpp', '-o', 'filename'])\n",
    "\n",
    "# run the compiled executable and capture the output\n",
    "output = subprocess.run('./filename', capture_output=True, text=True)\n",
    "\n",
    "# split the output into a list of lines\n",
    "output_lines = output.stdout.split('\\n')\n",
    "\n",
    "# print the output lines\n",
    "print(output_lines)"
   ]
  }
 ],
 "metadata": {
  "kernelspec": {
   "display_name": "Python 3 (ipykernel)",
   "language": "python",
   "name": "python3"
  },
  "language_info": {
   "codemirror_mode": {
    "name": "ipython",
    "version": 3
   },
   "file_extension": ".py",
   "mimetype": "text/x-python",
   "name": "python",
   "nbconvert_exporter": "python",
   "pygments_lexer": "ipython3",
   "version": "3.9.7"
  }
 },
 "nbformat": 4,
 "nbformat_minor": 5
}
